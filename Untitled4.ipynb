{
  "nbformat": 4,
  "nbformat_minor": 0,
  "metadata": {
    "colab": {
      "provenance": [],
      "authorship_tag": "ABX9TyMksq5+pEjGQ5yOqwYEGjoL",
      "include_colab_link": true
    },
    "kernelspec": {
      "name": "python3",
      "display_name": "Python 3"
    },
    "language_info": {
      "name": "python"
    }
  },
  "cells": [
    {
      "cell_type": "markdown",
      "metadata": {
        "id": "view-in-github",
        "colab_type": "text"
      },
      "source": [
        "<a href=\"https://colab.research.google.com/github/AndreiOvs/Quest/blob/main/Untitled4.ipynb\" target=\"_parent\"><img src=\"https://colab.research.google.com/assets/colab-badge.svg\" alt=\"Open In Colab\"/></a>"
      ]
    },
    {
      "cell_type": "code",
      "execution_count": null,
      "metadata": {
        "id": "aEK28elnyAPI"
      },
      "outputs": [],
      "source": []
    },
    {
      "cell_type": "code",
      "source": [
        "print('Что поделать?:')\n",
        "print('1)Делать уроки; 2)Играть в Fortnite; 3)Играть в CS2')\n",
        "a = int(input())\n",
        "\n",
        "if a == 1 or a == 3:\n",
        "    if a == 1:\n",
        "        print('Ну и молодец')\n",
        "    elif a == 3:\n",
        "        print('Какая CS?? Уж лучше иди уроки делай')\n",
        "    print('Как звали детей Алексея Михайловича Романова?')\n",
        "    print('1)Софья, Иван, Петр, Федор; 2)Софья, Иван, Петр, Роман')\n",
        "    b = int(input())\n",
        "    if b == 1:\n",
        "        print('Ураа, правильно')\n",
        "        print('Что больше?')\n",
        "        print('1)√19-3√2 ; 2) √21-2√5')\n",
        "        c = int(input())\n",
        "        if c == 1:\n",
        "            print('ОК, теперь русский')\n",
        "            print('СДЕЛА...ЫЙ, 1)Н BKB 2)НН?')\n",
        "            d = int(input())\n",
        "            if d == 2:\n",
        "                print('Все сделал, иди спи')\n",
        "            else:\n",
        "                print('Нет, миссия \"Уроки\" провалена')\n",
        "        else:\n",
        "            print('Нет🙁, миссия \"Уроки\" провалена')\n",
        "    else:\n",
        "        print('Какой еще Роман?')\n",
        "        print('Миссия \"Уроки\" провалена')\n",
        "\n",
        "elif a == 2:\n",
        "    print('Ну ОК')\n",
        "    print('1)Public или 2)BOX PVP ?')\n",
        "    b = int(input())\n",
        "    if b == 1:\n",
        "        print('')"
      ],
      "metadata": {
        "colab": {
          "base_uri": "https://localhost:8080/"
        },
        "id": "wOMX7sR6n9id",
        "outputId": "87245c9b-5fee-42f9-9ba3-ba095ec73448"
      },
      "execution_count": null,
      "outputs": [
        {
          "output_type": "stream",
          "name": "stdout",
          "text": [
            "Что поделать?:\n",
            "1)Делать уроки; 2)Играть в Fortnite; 3)Играть в CS2\n",
            "3\n",
            "Какая CS?? Уж лучше иди уроки делай\n",
            "Как звали детей Алексея Михайловича Романова?\n",
            "1)Софья, Иван, Петр, Федор; 2)Софья, Иван, Петр, Роман\n",
            "2\n",
            "Какой еще Роман?\n",
            "Миссия \"Уроки\" провалена\n"
          ]
        }
      ]
    }
  ]
}